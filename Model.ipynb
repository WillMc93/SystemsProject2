{
 "cells": [
  {
   "cell_type": "markdown",
   "metadata": {},
   "source": [
    "# Imports and Function Definitions"
   ]
  },
  {
   "cell_type": "code",
   "execution_count": 1,
   "metadata": {},
   "outputs": [],
   "source": [
    "import numpy as np\n",
    "import matplotlib.pyplot as plt\n",
    "\n",
    "from itertools import product\n",
    "from random import choices"
   ]
  },
  {
   "cell_type": "code",
   "execution_count": 10,
   "metadata": {},
   "outputs": [],
   "source": [
    "def mich_menten(S, k_m, v_max):\n",
    "    return v_max * S / (k_m + S)\n",
    "\n",
    "def run(params, data):\n",
    "    for s, km, vmax in params:\n",
    "        if (km, vmax) not in data:\n",
    "            data[(km,vmax)] = list()\n",
    "    \n",
    "        data[(km, vmax)].append(mich_menten(s,km, vmax))\n",
    "    \n",
    "    return data\n",
    "\n",
    "def dominant(dataset1, dataset2):\n",
    "    result = 'Indeterminant'\n",
    "    \n",
    "    if max(dataset1) > max(dataset2):\n",
    "        result = 'Enzyme 1'\n",
    "    \n",
    "    if max(dataset1) < max(dataset2):\n",
    "        result = 'Enzyme 2'\n",
    "    \n",
    "    return result"
   ]
  },
  {
   "cell_type": "markdown",
   "metadata": {},
   "source": [
    "# Data Simulation"
   ]
  },
  {
   "cell_type": "code",
   "execution_count": 11,
   "metadata": {},
   "outputs": [],
   "source": [
    "S = np.linspace(0, 5, 100)\n",
    "Km = np.linspace(0.1, 1, 10)\n",
    "Vmax = np.linspace(0.9, 1.1, 2)\n",
    "\n",
    "params = product(S, Km, Vmax)\n",
    "\n",
    "data = run(params, dict())"
   ]
  },
  {
   "cell_type": "markdown",
   "metadata": {},
   "source": [
    "# Plot"
   ]
  },
  {
   "cell_type": "code",
   "execution_count": 15,
   "metadata": {},
   "outputs": [
    {
     "data": {
      "image/png": "[encoded data removed]",
      "text/plain": [
       "<Figure size 432x288 with 1 Axes>"
      ]
     },
     "metadata": {
      "needs_background": "light"
     },
     "output_type": "display_data"
    }
   ],
   "source": [
    "combos = [(km, vmax) for (km, vmax) in data]\n",
    "enzyme1, enzyme2 = choices(combos, k=2)\n",
    "\n",
    "plt.plot(S, data[enzyme1], label=f'Enzyme 1: Km={enzyme1[0]} Vmax={enzyme1[1]}')\n",
    "plt.plot(S, data[enzyme2], label=f'Enzyme 2: Km={enzyme2[0]} Vmax={enzyme2[1]}')\n",
    "plt.legend()\n",
    "plt.show()"
   ]
  },
  {
   "cell_type": "code",
   "execution_count": null,
   "metadata": {},
   "outputs": [],
   "source": []
  }
 ],
 "metadata": {
  "kernelspec": {
   "display_name": "Python 3",
   "language": "python",
   "name": "python3"
  },
  "language_info": {
   "codemirror_mode": {
    "name": "ipython",
    "version": 3
   },
   "file_extension": ".py",
   "mimetype": "text/x-python",
   "name": "python",
   "nbconvert_exporter": "python",
   "pygments_lexer": "ipython3",
   "version": "3.7.4"
  }
 },
 "nbformat": 4,
 "nbformat_minor": 2
}
